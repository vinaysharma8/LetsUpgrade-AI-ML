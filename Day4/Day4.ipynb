{
 "cells": [
  {
   "cell_type": "markdown",
   "metadata": {},
   "source": [
    "# Question 1 (Complex number operations)"
   ]
  },
  {
   "cell_type": "code",
   "execution_count": 44,
   "metadata": {},
   "outputs": [
    {
     "name": "stdout",
     "output_type": "stream",
     "text": [
      "Enter the real part of first complex number 10\n",
      "Enter the imaginary part of first complex number 20\n",
      "The first complex number is : (10+20j)\n",
      "Enter the real part of second complex number 4\n",
      "Enter the imaginary part of second complex number 5\n",
      "The second complex number is : (4+5j)\n",
      "First complex number + Second complex number = (14+25j)\n",
      "First complex number - Second complex number = (6+15j)\n",
      "First complex number x Second complex number = (-60+130j)\n",
      "First complex number / Second complex number = (3.414634146341464+0.7317073170731708j)\n",
      "Floor Division of two complex numbers is not a valid operation\n",
      "Modulus of first complex number(z) : 22.360679774997898 and second complex number(c) :6.4031242374328485\n"
     ]
    }
   ],
   "source": [
    "from math import sqrt\n",
    "x= int(input(\"Enter the real part of first complex number \"))\n",
    "y= int(input(\"Enter the imaginary part of first complex number \"))\n",
    "z= complex(x,y) #complex() takes two 2 integer numbers as arguments and returns the complex number, First is the real part of complex number and second is the imaginary part of complex number.\n",
    "print(\"The first complex number is :\" , z)\n",
    "\n",
    "a= int(input(\"Enter the real part of second complex number \"))\n",
    "b= int(input(\"Enter the imaginary part of second complex number \"))\n",
    "c= complex(a,b)\n",
    "print(\"The second complex number is :\" , c)\n",
    "\n",
    "#Addition Of two complex Numbers\n",
    "print(\"First complex number + Second complex number =\" ,z+c) #It will print the print the resultant complex number to addition of two complex numbers\n",
    "\n",
    "# Subtraction of two complex numbers \n",
    "print(\"First complex number - Second complex number =\" ,z-c) #It will print the print the resultant complex number to subtracting second complex number from first complex number \n",
    "\n",
    "#Multiplication of two numbers \n",
    "print(\"First complex number x Second complex number =\" ,c*z) #It will print the print the resultant complex number to multiplication of two complex numbers \n",
    "\n",
    "# Division of two complex numbers \n",
    "print(\"First complex number / Second complex number =\" ,z/c) #It will print the print the resultant complex number to dividing first  complex number with second complex number\n",
    "\n",
    "# Floor Division of two complex numbers is not a valid operation \n",
    "print(\"Floor Division of two complex numbers is not a valid operation\")\n",
    "#Modulus of a complex number can be given by using python's inbuilt method ie; abs() or using the formula sqrt(real**2+ imag**2)\n",
    "print(\"Modulus of first complex number(z) : {0} and second complex number(c) :{1}\".format(sqrt(z.real**2 + z.imag**2), abs(c))) #It will print the print the resultant complex number to dividing first  complex number with second complex number\n"
   ]
  },
  {
   "cell_type": "markdown",
   "metadata": {},
   "source": [
    "# Question 2 (Range function)\n"
   ]
  },
  {
   "cell_type": "code",
   "execution_count": 27,
   "metadata": {},
   "outputs": [
    {
     "name": "stdout",
     "output_type": "stream",
     "text": [
      "2\n",
      "4\n",
      "6\n",
      "8\n",
      "10\n",
      "12\n",
      "14\n",
      "16\n",
      "18\n",
      "20\n"
     ]
    }
   ],
   "source": [
    "# The range() function returns the integers within a particular limit  takes 3 argurments:\n",
    "# 1. Starting point ...in this case it will start with 2\n",
    "# 2. Ending point.(The ending point is excluded so it returns the integer just before the ending point )... In this case it is 21 so it will return till 20\n",
    "# 3. Step size \n",
    "for i in range(2,21,2):\n",
    "    print(i)"
   ]
  },
  {
   "cell_type": "markdown",
   "metadata": {},
   "source": [
    "# Question 3 "
   ]
  },
  {
   "cell_type": "code",
   "execution_count": 38,
   "metadata": {},
   "outputs": [
    {
     "name": "stdout",
     "output_type": "stream",
     "text": [
      "a= 73 and b=86\n",
      "Difference of two numbers is : 13\n",
      "Division of two numbners is : 0.8488372093023255\n"
     ]
    }
   ],
   "source": [
    "import random\n",
    "a,b = random.sample(range(0, 100), 2)\n",
    "print(\"a= {0} and b={1}\".format(a,b))\n",
    "c = abs(a-b)\n",
    "print(\"Difference of two numbers is :\" ,c)\n",
    "if c>25:\n",
    "    print(\"Multiplication of two numbers is :\" , a*b)\n",
    "else:\n",
    "    print(\"Division of two numbners is :\" , a/b)"
   ]
  },
  {
   "cell_type": "markdown",
   "metadata": {},
   "source": [
    "# Question 4"
   ]
  },
  {
   "cell_type": "code",
   "execution_count": 50,
   "metadata": {},
   "outputs": [
    {
     "name": "stdout",
     "output_type": "stream",
     "text": [
      "List of 10 numbers is : [61, 19, 47, 75, 43, 29, 30, 59, 69, 23]\n",
      "898\n"
     ]
    }
   ],
   "source": [
    "import random\n",
    "numbers = random.sample(range(0, 100), 10)\n",
    "print(\"List of 10 numbers is :\", numbers)\n",
    "for n in numbers:\n",
    "    if n%2==0:\n",
    "        print(n**2-2)"
   ]
  },
  {
   "cell_type": "markdown",
   "metadata": {},
   "source": [
    "#  Question 5"
   ]
  },
  {
   "cell_type": "code",
   "execution_count": 49,
   "metadata": {},
   "outputs": [
    {
     "name": "stdout",
     "output_type": "stream",
     "text": [
      "List of 10 numbers is : [21, 16, 11, 14, 19, 7, 2, 3, 18, 22]\n",
      "21\n",
      "16\n",
      "19\n",
      "18\n",
      "22\n"
     ]
    }
   ],
   "source": [
    "import random\n",
    "numbers = random.sample(range(0, 40), 10)\n",
    "print(\"List of 10 numbers is :\", numbers)\n",
    "for n in numbers:\n",
    "    temp = n/2\n",
    "    if temp >7:\n",
    "        print(n)"
   ]
  },
  {
   "cell_type": "code",
   "execution_count": null,
   "metadata": {},
   "outputs": [],
   "source": []
  }
 ],
 "metadata": {
  "kernelspec": {
   "display_name": "Python 3",
   "language": "python",
   "name": "python3"
  },
  "language_info": {
   "codemirror_mode": {
    "name": "ipython",
    "version": 3
   },
   "file_extension": ".py",
   "mimetype": "text/x-python",
   "name": "python",
   "nbconvert_exporter": "python",
   "pygments_lexer": "ipython3",
   "version": "3.7.3"
  }
 },
 "nbformat": 4,
 "nbformat_minor": 2
}
