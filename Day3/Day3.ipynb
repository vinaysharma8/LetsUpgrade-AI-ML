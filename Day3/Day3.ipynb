{
 "cells": [
  {
   "cell_type": "markdown",
   "metadata": {},
   "source": [
    "# Question 1 ( Complex Numbers)"
   ]
  },
  {
   "cell_type": "code",
   "execution_count": 1,
   "metadata": {},
   "outputs": [
    {
     "name": "stdout",
     "output_type": "stream",
     "text": [
      "Enter the real part of first complex number 5\n",
      "Enter the imaginary part of first complex number 7\n",
      "The first complex number is : (5+7j)\n",
      "Enter the real part of second complex number 9\n",
      "Enter the imaginary part of second complex number 13\n",
      "The second complex number is : (9+13j)\n",
      "First complex number - Second complex number = (-4-6j)\n"
     ]
    }
   ],
   "source": [
    "import cmath #Cmath is library for complex number operations\n",
    "\n",
    "x= int(input(\"Enter the real part of first complex number \"))\n",
    "y= int(input(\"Enter the imaginary part of first complex number \"))\n",
    "z= complex(x,y) #complex() takes two 2 integer numbers as arguments and returns the complex number, First is the real part of complex number and second is the imaginary part of complex number.\n",
    "print(\"The first complex number is :\" , z)\n",
    "\n",
    "a= int(input(\"Enter the real part of second complex number \"))\n",
    "b= int(input(\"Enter the imaginary part of second complex number \"))\n",
    "c= complex(a,b)\n",
    "\n",
    "print(\"The second complex number is :\" , c)\n",
    "print(\"First complex number - Second complex number =\" ,z-c) #It will print the print the resultant complex number to subtracting second complex number from first complex number "
   ]
  },
  {
   "cell_type": "markdown",
   "metadata": {},
   "source": [
    "# Question 2 (Fourth Root for number)"
   ]
  },
  {
   "cell_type": "code",
   "execution_count": 9,
   "metadata": {},
   "outputs": [
    {
     "name": "stdout",
     "output_type": "stream",
     "text": [
      "Enter the positive integer number 10\n",
      "The fourth root of a 10 : 1.7782794100389228\n"
     ]
    }
   ],
   "source": [
    "x = int(input(\"Enter the positive integer number \"))\n",
    "print(\"The fourth root of a {0} :\".format(x) , x**(1/4)) #Since the fourth root of a number is equal to x^1/4"
   ]
  },
  {
   "cell_type": "markdown",
   "metadata": {},
   "source": [
    "# Question 3 (Swap 2 number with the help of a temporary variable)"
   ]
  },
  {
   "cell_type": "code",
   "execution_count": 15,
   "metadata": {},
   "outputs": [
    {
     "name": "stdout",
     "output_type": "stream",
     "text": [
      "Enter the first number(x): 6\n",
      "Enter the second number(y): 10\n",
      "Swapped values are x= 10 and y= 6\n"
     ]
    }
   ],
   "source": [
    "x = input(\"Enter the first number(x): \")\n",
    "y = input(\"Enter the second number(y): \")\n",
    "z= x\n",
    "x= y\n",
    "y= z\n",
    "print(\"Swapped values are x= {0} and y= {1}\".format(x , y))"
   ]
  },
  {
   "cell_type": "markdown",
   "metadata": {},
   "source": [
    "# Question 3 (Swap 2 number without the help of a temporary variable)"
   ]
  },
  {
   "cell_type": "code",
   "execution_count": 5,
   "metadata": {},
   "outputs": [
    {
     "name": "stdout",
     "output_type": "stream",
     "text": [
      "Enter the first number(x): 5\n",
      "Enter the second number(y): 10\n",
      "Swapped values are x= 10 and y= 5\n"
     ]
    }
   ],
   "source": [
    "x = input(\"Enter the first number(x): \")\n",
    "y = input(\"Enter the second number(y): \")\n",
    "x , y = y, x\n",
    "print(\"Swapped values are x= {0} and y= {1}\".format(x , y))"
   ]
  },
  {
   "cell_type": "markdown",
   "metadata": {},
   "source": [
    "#  Question 4 (Fahrenheit to kelvin and celsius both)"
   ]
  },
  {
   "cell_type": "code",
   "execution_count": 14,
   "metadata": {},
   "outputs": [
    {
     "name": "stdout",
     "output_type": "stream",
     "text": [
      "Enter Temperature in Fahrenheit: 98.6\n",
      "Temperature in Celsius = 36.99999999999999\n",
      "Temperature in Kelvin = 310.15\n"
     ]
    }
   ],
   "source": [
    "temp = float(input(\"Enter Temperature in Fahrenheit: \"))\n",
    "celsius = (temp-32)/1.8 # Formula to convert Fahrenheit into celcius\n",
    "print(\"{}Temperature in Celsius =\",celsius)\n",
    "kelvin = (temp + 459.67) * 5/9 # Formula to convert Fahrenheit into Kelvin\n",
    "print(\"Temperature in Kelvin =\",kelvin)"
   ]
  },
  {
   "cell_type": "markdown",
   "metadata": {},
   "source": [
    "# Question 5 (Steps to create Github profile and upload Githubs Assignment link)\n"
   ]
  },
  {
   "cell_type": "markdown",
   "metadata": {},
   "source": [
    "__1. Go to the https://github.com__"
   ]
  },
  {
   "cell_type": "markdown",
   "metadata": {},
   "source": [
    "__2. Register to create new account.__"
   ]
  },
  {
   "cell_type": "markdown",
   "metadata": {},
   "source": [
    "__3. Create a Github public repo and name it LetsUpgrade AI/ML.__"
   ]
  },
  {
   "cell_type": "markdown",
   "metadata": {},
   "source": [
    "__4. Create a folder for a specefic day containing ipynb for the assignment and upload it to the repository.__"
   ]
  },
  {
   "cell_type": "code",
   "execution_count": null,
   "metadata": {},
   "outputs": [],
   "source": []
  }
 ],
 "metadata": {
  "kernelspec": {
   "display_name": "Python 3",
   "language": "python",
   "name": "python3"
  },
  "language_info": {
   "codemirror_mode": {
    "name": "ipython",
    "version": 3
   },
   "file_extension": ".py",
   "mimetype": "text/x-python",
   "name": "python",
   "nbconvert_exporter": "python",
   "pygments_lexer": "ipython3",
   "version": "3.7.3"
  }
 },
 "nbformat": 4,
 "nbformat_minor": 2
}
