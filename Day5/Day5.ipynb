{
 "cells": [
  {
   "cell_type": "markdown",
   "metadata": {},
   "source": [
    "# Question 1 (20 Non-Even Prime numbers)"
   ]
  },
  {
   "cell_type": "code",
   "execution_count": 27,
   "metadata": {},
   "outputs": [
    {
     "name": "stdout",
     "output_type": "stream",
     "text": [
      "Enter the initial value from where to find the next 20 prime numbers 52\n",
      "[53, 59, 61, 67, 71, 73, 79, 83, 89, 97, 101, 103, 107, 109, 113, 127, 131, 137, 139, 149, 151]\n"
     ]
    }
   ],
   "source": [
    "primelist = []\n",
    "n = int(input(\"Enter the initial value from where to find the next 20 prime numbers \"))\n",
    "while len(primelist)<21:\n",
    "    is_prime = True\n",
    "    for i in range(2,int(n/2)+1):\n",
    "        if n%i == 0:\n",
    "            is_prime = False\n",
    "            break\n",
    "    if is_prime is True:\n",
    "        if n%2 !=0:\n",
    "            primelist.append(n)\n",
    "    n= n+1\n",
    "print(primelist)"
   ]
  },
  {
   "cell_type": "markdown",
   "metadata": {},
   "source": [
    "# Question 2 (15 String methods)"
   ]
  },
  {
   "cell_type": "code",
   "execution_count": 99,
   "metadata": {},
   "outputs": [
    {
     "name": "stdout",
     "output_type": "stream",
     "text": [
      "1 capitalize(): This is an example of string\n",
      "2 casefold(): this is an example of string 112\n",
      "3 count(): 2\n",
      "4 encode(): b'This Is an example of string 112'\n",
      "5 endswith(): False\n",
      "6 find(): 8\n",
      "7 index(): 1\n",
      "8 isalnum(): False\n",
      "9 isalpha(): True\n",
      "10 isdecimal(): False\n",
      "11 islower(): False\n",
      "12 isspace(): True\n",
      "13 isupper(): True\n",
      "14 lstrip(): Spaces form left will be removed\n",
      "15 replace(): This is replaced\n"
     ]
    }
   ],
   "source": [
    "text = \"this is an example of string\"\n",
    "#1 Converts the first character of string to upper case\n",
    "print(\"1 capitalize():\",text.capitalize())\n",
    "\n",
    "text = \"This Is an example of string 112\"\n",
    "#2 Converts string in the lower case\n",
    "print(\"2 casefold():\",text.casefold())\n",
    "\n",
    "#3 count the occurance of substring in the string\n",
    "print(\"3 count():\",text.count('a')) \n",
    "\n",
    "#4 Encodes string \n",
    "print(\"4 encode():\",text.encode())\n",
    "\n",
    "#5 Returns true if string ends with substring\n",
    "print(\"5 endswith():\",text.endswith(\"a\")) \n",
    "\n",
    "#6 It return the index of substring in the the string and return -1 if substring is not found in the string\n",
    "print(\"6 find():\",text.find(\"an\")) \n",
    "\n",
    "#7 It throws Error if substring is not found in the string\n",
    "print(\"7 index():\",text.index(\"h\")) \n",
    "\n",
    "#8 Returns True if all characters in the string are alphanumeric , space is traeated as special character\n",
    "print(\"8 isalnum():\",text.isalnum()) \n",
    "\n",
    "#9 Returns True if all characters in the string are in the alphabet\n",
    "text = \"This\"\n",
    "print(\"9 isalpha():\", text.isalpha())\n",
    "\n",
    "#10 Returns True if all characters in the string are decimals\n",
    "text =\"010100101  \"\n",
    "print(\"10 isdecimal():\", text.isdecimal())\n",
    "\n",
    "#11 Returns True if all characters in the string are lower case\n",
    "text = \"This\"\n",
    "print(\"11 islower():\", text.islower())\n",
    "\n",
    "#12 Returns True if all characters in the string are whitespaces\n",
    "text = \"      \"\n",
    "print(\"12 isspace():\", text.isspace())\n",
    "\n",
    "#13 Returns True if all characters in the string are upper case\n",
    "text = \"TRY\"\n",
    "print(\"13 isupper():\", text.isupper())\n",
    "\n",
    "#14 Returns a left trim version of the string\n",
    "text = \"       Spaces form left will be removed\"\n",
    "print(\"14 lstrip():\", text.lstrip())\n",
    "\n",
    "#15 Returns a string where a specified value is replaced with a specified value\n",
    "text = \"This will be replaced\"\n",
    "print(\"15 replace():\",text.replace('will be',\"is\"))"
   ]
  },
  {
   "cell_type": "markdown",
   "metadata": {},
   "source": [
    "# Question 3  (Palindrome or Anagram)"
   ]
  },
  {
   "cell_type": "code",
   "execution_count": 115,
   "metadata": {},
   "outputs": [
    {
     "name": "stdout",
     "output_type": "stream",
     "text": [
      "Enter 1st String :madam\n",
      "Enter 2nd String :ammad\n",
      "These two strings are Anagram!!\n",
      "1st strings is palindrome !!\n"
     ]
    }
   ],
   "source": [
    "\n",
    "def is_anagram(str1, str2):\n",
    "    list_str1 = list(str1)\n",
    "    list_str1.sort()\n",
    "    list_str2 = list(str2)\n",
    "    list_str2.sort()\n",
    "\n",
    "    return (list_str1 == list_str2)\n",
    "\n",
    "def is_palindrome(str1):\n",
    "    for i in range(len(str1)):\n",
    "        return str1 == str1[::-1]\n",
    "str1 = str(input(\"Enter 1st String :\"))\n",
    "str2 = str(input(\"Enter 2nd String :\"))\n",
    "\n",
    "\n",
    "if(is_anagram(str1, str2)):\n",
    "    print(\"These two strings are Anagram!!\")\n",
    "if(is_palindrome(str1)):\n",
    "    print(\"1st strings is palindrome !!\" )\n",
    "if(is_palindrome(str2)):\n",
    "    print(\"2nd strings is palindrome !!\" )\n",
    "elif(not(is_anagram(str1, str2) or is_palindrome(str1) or is_palindrome(str2) )):\n",
    "    print(\"None is possible\")\n"
   ]
  },
  {
   "cell_type": "markdown",
   "metadata": {},
   "source": [
    "# Question 4 (Only alphabets )\n"
   ]
  },
  {
   "cell_type": "code",
   "execution_count": 119,
   "metadata": {},
   "outputs": [
    {
     "name": "stdout",
     "output_type": "stream",
     "text": [
      "Enter a stringDr. Darshan Ingle @AI-ML Trainer\n",
      "drdarshaningleaimltrainer\n"
     ]
    }
   ],
   "source": [
    "def only_alphas(str1):\n",
    "    str2=\"\"\n",
    "    for ch in str1:\n",
    "        if ch.isalpha():\n",
    "            str2+=ch\n",
    "    return str2.lower()\n",
    "str1 = str(input(\"Enter a string\"))\n",
    "print(only_alphas(str1))"
   ]
  },
  {
   "cell_type": "code",
   "execution_count": null,
   "metadata": {},
   "outputs": [],
   "source": []
  }
 ],
 "metadata": {
  "kernelspec": {
   "display_name": "Python 3",
   "language": "python",
   "name": "python3"
  },
  "language_info": {
   "codemirror_mode": {
    "name": "ipython",
    "version": 3
   },
   "file_extension": ".py",
   "mimetype": "text/x-python",
   "name": "python",
   "nbconvert_exporter": "python",
   "pygments_lexer": "ipython3",
   "version": "3.7.3"
  }
 },
 "nbformat": 4,
 "nbformat_minor": 2
}
