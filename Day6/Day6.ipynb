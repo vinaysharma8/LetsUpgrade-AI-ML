{
 "cells": [
  {
   "cell_type": "markdown",
   "metadata": {},
   "source": [
    "# Question 1 (Company name from email)"
   ]
  },
  {
   "cell_type": "code",
   "execution_count": 30,
   "metadata": {},
   "outputs": [
    {
     "name": "stdout",
     "output_type": "stream",
     "text": [
      "Enter a valid Email id: abc@xyz.com\n",
      "xyz\n"
     ]
    }
   ],
   "source": [
    "import re\n",
    "email = input(\"Enter a valid Email id: \")\n",
    "regex = '^[a-z0-9]+[\\._]?[a-z0-9]+[@]\\w+[.]\\w{2,3}$'\n",
    "if(re.search(regex,email)):\n",
    "    company_name = email.split(\"@\")[-1].split('.')[0]\n",
    "    print(company_name)\n",
    "else:\n",
    "    print(\"Invalid EmailID\")"
   ]
  },
  {
   "cell_type": "markdown",
   "metadata": {},
   "source": [
    "# Question 2 (Comma separated value)"
   ]
  },
  {
   "cell_type": "code",
   "execution_count": 29,
   "metadata": {},
   "outputs": [
    {
     "name": "stdout",
     "output_type": "stream",
     "text": [
      "Enter Commma separated values : ohh,yeah,its,completed,now\n",
      "completed,its,now,ohh,yeah\n"
     ]
    }
   ],
   "source": [
    "entry = input(\"Enter Commma separated values : \")\n",
    "ent_list = list(entry.split(\",\"))\n",
    "ent_list.sort()\n",
    "print(\",\".join(ent_list))"
   ]
  },
  {
   "cell_type": "markdown",
   "metadata": {},
   "source": [
    "# Question 3 (Sets)"
   ]
  },
  {
   "cell_type": "code",
   "execution_count": 24,
   "metadata": {},
   "outputs": [
    {
     "name": "stdout",
     "output_type": "stream",
     "text": [
      "<class 'set'>\n",
      "abc\n",
      "123\n",
      "efg\n",
      "123 is present in the set:  True\n",
      "After Adding 456 in set  {456, 'abc', 123, 'efg'}\n",
      "After Adding Multiple values in set  {'abc', 'mango', 'efg', 456, 'orange', 'grapes', 123}\n",
      "After Removing 456 from set  {'abc', 'mango', 'efg', 'orange', 'grapes', 123}\n",
      "After clear :  set()\n"
     ]
    }
   ],
   "source": [
    "sets ={'abc','efg','abc',123} # creating a set , Only unique values are allowed in set\n",
    "print(type(sets))\n",
    "\n",
    "for x in sets: # Accessing values in Set\n",
    "    print(x)\n",
    "\n",
    "print(\"123 is present in the set: \",123 in sets) #Check if \"123\" is present in the set:\n",
    "\n",
    "sets.add(456) # Adding value in set\n",
    "print(\"After Adding 456 in set \", sets)\n",
    "\n",
    "sets.update([\"orange\", \"mango\", \"grapes\"]) # Adding Multiple values in set\n",
    "print(\"After Adding Multiple values in set \",sets)\n",
    "\n",
    "sets.remove(456) #Removing a value in set\n",
    "print(\"After Removing 456 from set \",sets)\n",
    "\n",
    "sets.clear() #The clear() method empties the set\n",
    "print(\"After clear : \" ,sets)"
   ]
  },
  {
   "cell_type": "markdown",
   "metadata": {},
   "source": [
    "# Question 4 (Missing Numbers)"
   ]
  },
  {
   "cell_type": "code",
   "execution_count": 32,
   "metadata": {},
   "outputs": [
    {
     "name": "stdout",
     "output_type": "stream",
     "text": [
      "Enter the numbers 1 2 5 3 12 7\n",
      "[4, 6, 8, 9, 10, 11]\n"
     ]
    }
   ],
   "source": [
    "numbers = input(\"Enter the numbers \").rstrip()\n",
    "num_lst = numbers.split(\" \")\n",
    "num_lst = [int(i) for i in num_lst]\n",
    "num_lst.sort()\n",
    "missed = [i for i in range(num_lst[0],num_lst[-1]) if i not in num_lst]\n",
    "print(missed)"
   ]
  },
  {
   "cell_type": "markdown",
   "metadata": {},
   "source": [
    "# Question 5 (Unique Numbers in List)"
   ]
  },
  {
   "cell_type": "code",
   "execution_count": 41,
   "metadata": {},
   "outputs": [
    {
     "name": "stdout",
     "output_type": "stream",
     "text": [
      "Enter the numbers 12 24 35 24 88 120 155 88 120 155\n",
      "12 24 35 88 120 155\n"
     ]
    }
   ],
   "source": [
    "numbers = input(\"Enter the numbers \").rstrip()\n",
    "num_lst = numbers.split(\" \")\n",
    "new_num_lst= []\n",
    "for num in num_lst:\n",
    "    if not num in new_num_lst:\n",
    "        new_num_lst.append(num)\n",
    "print(\" \".join(new_num_lst))    \n",
    "    "
   ]
  },
  {
   "cell_type": "code",
   "execution_count": null,
   "metadata": {},
   "outputs": [],
   "source": []
  }
 ],
 "metadata": {
  "kernelspec": {
   "display_name": "Python 3",
   "language": "python",
   "name": "python3"
  },
  "language_info": {
   "codemirror_mode": {
    "name": "ipython",
    "version": 3
   },
   "file_extension": ".py",
   "mimetype": "text/x-python",
   "name": "python",
   "nbconvert_exporter": "python",
   "pygments_lexer": "ipython3",
   "version": "3.7.3"
  }
 },
 "nbformat": 4,
 "nbformat_minor": 2
}
